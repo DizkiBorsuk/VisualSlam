{
 "cells": [
  {
   "cell_type": "code",
   "execution_count": 24,
   "metadata": {},
   "outputs": [],
   "source": [
    "import numpy as np \n",
    "import pandas as pd\n",
    "import cv2 as cv \n",
    "import os\n",
    "from ComputeStereo import computeStereoCorrespondance\n",
    "import matplotlib.pyplot as plt"
   ]
  },
  {
   "cell_type": "code",
   "execution_count": 25,
   "metadata": {},
   "outputs": [],
   "source": [
    "class ImportKittyDataset(): \n",
    "    def __init__(self, img_sequance = '00'):\n",
    "        \n",
    "        self.sequance_dir = '../KITTY_dataset/sequences/{}/'.format(img_sequance) # directory of images\n",
    "        self.ground_truth_poses_dir = '../KITTY_dataset/ground_truth_poses/{}.txt'.format(img_sequance) \n",
    "        \n",
    "        self.L_camera_imgs_dir = sorted(os.listdir(self.sequance_dir + 'image_0'))\n",
    "        self.R_camera_imgs_dir = sorted(os.listdir(self.sequance_dir + 'image_1'))\n",
    "        self.imgs_num = len(self.L_camera_imgs_dir)\n",
    "            \n",
    "        calib = pd.read_csv('../KITTY_dataset/sequences/{}/calib.txt'.format(img_sequance), delimiter=' ',header=None, index_col=0)\n",
    "        self.P0 = np.array(calib.loc['P0:']).reshape((3,4))\n",
    "        self.P1 = np.array(calib.loc['P1:']).reshape((3,4)) # P0 and P1 are for grayscale images \n",
    "        self.P2 = np.array(calib.loc['P2:']).reshape((3,4)) # P2 and P3 are for RGB images\n",
    "        self.P3 = np.array(calib.loc['P3:']).reshape((3,4))\n",
    "        self.Tr = np.array(calib.loc['Tr:']).reshape((3,4))\n",
    "        \n",
    "        self.times = np.array(pd.read_csv(self.sequance_dir + 'times.txt', delimiter=' ', header=None))\n",
    "        \n",
    "        print('number of frames', self.imgs_num)\n",
    "        print('Left camera matrix = \\n', self.P0)\n",
    "        print('Right camera matrix = \\n', self.P1)\n",
    "        \n",
    "        \n",
    "    def getGTposes(self): \n",
    "        ground_truth_poses = pd.read_csv(self.ground_truth_poses_dir, delimiter=' ', header=None) #read ground truth poses\n",
    "        gt_poses =np.zeros((len(ground_truth_poses), 3, 4))\n",
    "        \n",
    "        for npose in range(len(ground_truth_poses)): \n",
    "            gt_poses[npose] = (np.array(ground_truth_poses.iloc[npose]).reshape((3,4)))\n",
    "        \n",
    "        print('poses shape', gt_poses.shape)\n",
    "        return gt_poses\n",
    "        \n",
    "        \n",
    "    def readImgs(self, camera_type):\n",
    "        \n",
    "        left_images = []\n",
    "        right_images = [] \n",
    "        \n",
    "        if camera_type == 'mono':\n",
    "            \n",
    "            for i,img_name in enumerate(self.L_camera_imgs_dir): \n",
    "                left_images.append(cv.imread(self.sequance_dir +'image_0/' + img_name))\n",
    "            \n",
    "            self.imheight = left_images[0].shape[0]\n",
    "            self.imwidth = left_images[0].shape[1]\n",
    "                \n",
    "            return left_images\n",
    "                \n",
    "        elif camera_type == 'stereo':\n",
    " \n",
    "            for j,img_name in enumerate(self.L_camera_imgs_dir): \n",
    "                left_images.append(cv.imread(self.sequance_dir +'image_0/' + img_name))\n",
    "                \n",
    "            for k,img_name in enumerate(self.R_camera_imgs_dir): \n",
    "                right_images.append(cv.imread(self.sequance_dir +'image_1/' + img_name))\n",
    "            \n",
    "            self.imheight = left_images[0].shape[0]\n",
    "            self.imwidth = left_images[0].shape[1]\n",
    "            \n",
    "            return left_images, right_images\n",
    "            \n",
    "        else: \n",
    "            print('wrong camera format')\n",
    "            return 1 "
   ]
  },
  {
   "cell_type": "code",
   "execution_count": 26,
   "metadata": {},
   "outputs": [
    {
     "ename": "NameError",
     "evalue": "name 'os' is not defined",
     "output_type": "error",
     "traceback": [
      "\u001b[0;31m---------------------------------------------------------------------------\u001b[0m",
      "\u001b[0;31mNameError\u001b[0m                                 Traceback (most recent call last)",
      "Cell \u001b[0;32mIn[26], line 1\u001b[0m\n\u001b[0;32m----> 1\u001b[0m kitty_data \u001b[39m=\u001b[39m ImportKittyDataset()\n\u001b[1;32m      2\u001b[0m gt_poses \u001b[39m=\u001b[39m kitty_data\u001b[39m.\u001b[39mgetGTposes() \n",
      "Cell \u001b[0;32mIn[25], line 7\u001b[0m, in \u001b[0;36mImportKittyDataset.__init__\u001b[0;34m(self, img_sequance)\u001b[0m\n\u001b[1;32m      4\u001b[0m \u001b[39mself\u001b[39m\u001b[39m.\u001b[39msequance_dir \u001b[39m=\u001b[39m \u001b[39m'\u001b[39m\u001b[39m../KITTY_dataset/sequences/\u001b[39m\u001b[39m{}\u001b[39;00m\u001b[39m/\u001b[39m\u001b[39m'\u001b[39m\u001b[39m.\u001b[39mformat(img_sequance) \u001b[39m# directory of images\u001b[39;00m\n\u001b[1;32m      5\u001b[0m \u001b[39mself\u001b[39m\u001b[39m.\u001b[39mground_truth_poses_dir \u001b[39m=\u001b[39m \u001b[39m'\u001b[39m\u001b[39m../KITTY_dataset/ground_truth_poses/\u001b[39m\u001b[39m{}\u001b[39;00m\u001b[39m.txt\u001b[39m\u001b[39m'\u001b[39m\u001b[39m.\u001b[39mformat(img_sequance) \n\u001b[0;32m----> 7\u001b[0m \u001b[39mself\u001b[39m\u001b[39m.\u001b[39mL_camera_imgs_dir \u001b[39m=\u001b[39m \u001b[39msorted\u001b[39m(os\u001b[39m.\u001b[39mlistdir(\u001b[39mself\u001b[39m\u001b[39m.\u001b[39msequance_dir \u001b[39m+\u001b[39m \u001b[39m'\u001b[39m\u001b[39mimage_0\u001b[39m\u001b[39m'\u001b[39m))\n\u001b[1;32m      8\u001b[0m \u001b[39mself\u001b[39m\u001b[39m.\u001b[39mR_camera_imgs_dir \u001b[39m=\u001b[39m \u001b[39msorted\u001b[39m(os\u001b[39m.\u001b[39mlistdir(\u001b[39mself\u001b[39m\u001b[39m.\u001b[39msequance_dir \u001b[39m+\u001b[39m \u001b[39m'\u001b[39m\u001b[39mimage_1\u001b[39m\u001b[39m'\u001b[39m))\n\u001b[1;32m      9\u001b[0m \u001b[39mself\u001b[39m\u001b[39m.\u001b[39mimgs_num \u001b[39m=\u001b[39m \u001b[39mlen\u001b[39m(\u001b[39mself\u001b[39m\u001b[39m.\u001b[39mL_camera_imgs_dir)\n",
      "\u001b[0;31mNameError\u001b[0m: name 'os' is not defined"
     ]
    }
   ],
   "source": [
    "kitty_data = ImportKittyDataset()\n",
    "gt_poses = kitty_data.getGTposes() "
   ]
  },
  {
   "cell_type": "code",
   "execution_count": null,
   "metadata": {},
   "outputs": [
    {
     "name": "stdout",
     "output_type": "stream",
     "text": [
      "(4541, 3, 4)\n",
      "[[0. 0. 0. 0.]\n",
      " [0. 0. 0. 0.]\n",
      " [0. 0. 0. 0.]]\n"
     ]
    }
   ],
   "source": [
    "gt_poses\n",
    "print(gt_poses.shape)\n",
    "print(gt_poses[100].round(2))"
   ]
  },
  {
   "cell_type": "code",
   "execution_count": null,
   "metadata": {},
   "outputs": [
    {
     "data": {
      "image/png": "[encoded data removed]",
      "text/plain": [
       "<Figure size 640x480 with 1 Axes>"
      ]
     },
     "metadata": {},
     "output_type": "display_data"
    }
   ],
   "source": [
    "plt.plot(gt_poses[:,:,3][:,0], gt_poses[:,:,3][:,2])\n",
    "plt.xlabel(\"x [m]\")\n",
    "plt.ylabel(\"y [m]\")\n",
    "plt.show()"
   ]
  }
 ],
 "metadata": {
  "kernelspec": {
   "display_name": "Python 3",
   "language": "python",
   "name": "python3"
  },
  "language_info": {
   "codemirror_mode": {
    "name": "ipython",
    "version": 3
   },
   "file_extension": ".py",
   "mimetype": "text/x-python",
   "name": "python",
   "nbconvert_exporter": "python",
   "pygments_lexer": "ipython3",
   "version": "3.8.10"
  },
  "orig_nbformat": 4
 },
 "nbformat": 4,
 "nbformat_minor": 2
}
