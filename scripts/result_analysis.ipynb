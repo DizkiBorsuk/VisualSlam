{
 "cells": [
  {
   "cell_type": "code",
   "execution_count": 1,
   "metadata": {},
   "outputs": [],
   "source": [
    "import numpy as np\n",
    "import matplotlib.pyplot as plt\n",
    "import os \n",
    "import datetime \n",
    "import pandas as pd\n",
    "import netCDF4\n",
    "from mpl_toolkits.mplot3d import Axes3D "
   ]
  },
  {
   "cell_type": "code",
   "execution_count": 3,
   "metadata": {},
   "outputs": [
    {
     "name": "stderr",
     "output_type": "stream",
     "text": [
      "/tmp/ipykernel_8077/3979846223.py:1: ParserWarning: Skipping line 9: expected 5 fields, saw 8\n",
      "Skipping line 11: expected 5 fields, saw 6\n",
      "Skipping line 26: expected 5 fields, saw 8\n",
      "Skipping line 28: expected 5 fields, saw 6\n",
      "Skipping line 43: expected 5 fields, saw 8\n",
      "Skipping line 45: expected 5 fields, saw 6\n",
      "Skipping line 60: expected 5 fields, saw 8\n",
      "Skipping line 62: expected 5 fields, saw 6\n",
      "Skipping line 77: expected 5 fields, saw 8\n",
      "Skipping line 79: expected 5 fields, saw 6\n",
      "\n",
      "  data1 = pd.read_csv(\"~/dev/projects_cpp/VisualSlam/results/results_stereo_gftt_0_150_no_loop.csv\", delimiter = \" \", header=None, on_bad_lines='warn')\n"
     ]
    },
    {
     "data": {
      "text/html": [
       "<div>\n",
       "<style scoped>\n",
       "    .dataframe tbody tr th:only-of-type {\n",
       "        vertical-align: middle;\n",
       "    }\n",
       "\n",
       "    .dataframe tbody tr th {\n",
       "        vertical-align: top;\n",
       "    }\n",
       "\n",
       "    .dataframe thead th {\n",
       "        text-align: right;\n",
       "    }\n",
       "</style>\n",
       "<table border=\"1\" class=\"dataframe\">\n",
       "  <thead>\n",
       "    <tr style=\"text-align: right;\">\n",
       "      <th></th>\n",
       "      <th>0</th>\n",
       "      <th>1</th>\n",
       "      <th>2</th>\n",
       "      <th>3</th>\n",
       "      <th>4</th>\n",
       "    </tr>\n",
       "  </thead>\n",
       "  <tbody>\n",
       "    <tr>\n",
       "      <th>0</th>\n",
       "      <td>NEW</td>\n",
       "      <td>TEST:,</td>\n",
       "      <td>sequence</td>\n",
       "      <td>number:</td>\n",
       "      <td>,0,0</td>\n",
       "    </tr>\n",
       "    <tr>\n",
       "      <th>1</th>\n",
       "      <td>Tracking</td>\n",
       "      <td>type,0,,</td>\n",
       "      <td>NaN</td>\n",
       "      <td>NaN</td>\n",
       "      <td>NaN</td>\n",
       "    </tr>\n",
       "    <tr>\n",
       "      <th>2</th>\n",
       "      <td>Detector</td>\n",
       "      <td>type,0,,</td>\n",
       "      <td>NaN</td>\n",
       "      <td>NaN</td>\n",
       "      <td>NaN</td>\n",
       "    </tr>\n",
       "    <tr>\n",
       "      <th>3</th>\n",
       "      <td>Number</td>\n",
       "      <td>of</td>\n",
       "      <td>detected</td>\n",
       "      <td>features,150,,</td>\n",
       "      <td>NaN</td>\n",
       "    </tr>\n",
       "    <tr>\n",
       "      <th>4</th>\n",
       "      <td>Loop</td>\n",
       "      <td>closing?,0,,</td>\n",
       "      <td>NaN</td>\n",
       "      <td>NaN</td>\n",
       "      <td>NaN</td>\n",
       "    </tr>\n",
       "    <tr>\n",
       "      <th>...</th>\n",
       "      <td>...</td>\n",
       "      <td>...</td>\n",
       "      <td>...</td>\n",
       "      <td>...</td>\n",
       "      <td>...</td>\n",
       "    </tr>\n",
       "    <tr>\n",
       "      <th>69</th>\n",
       "      <td>,30.1811,15.0993,180.029</td>\n",
       "      <td>NaN</td>\n",
       "      <td>NaN</td>\n",
       "      <td>NaN</td>\n",
       "      <td>NaN</td>\n",
       "    </tr>\n",
       "    <tr>\n",
       "      <th>70</th>\n",
       "      <td>mean</td>\n",
       "      <td>loop</td>\n",
       "      <td>time:</td>\n",
       "      <td>,9.0185,,</td>\n",
       "      <td>NaN</td>\n",
       "    </tr>\n",
       "    <tr>\n",
       "      <th>71</th>\n",
       "      <td>max</td>\n",
       "      <td>loop</td>\n",
       "      <td>time:</td>\n",
       "      <td>,24,,</td>\n",
       "      <td>NaN</td>\n",
       "    </tr>\n",
       "    <tr>\n",
       "      <th>72</th>\n",
       "      <td>min</td>\n",
       "      <td>loop</td>\n",
       "      <td>time:</td>\n",
       "      <td>,6,,</td>\n",
       "      <td>NaN</td>\n",
       "    </tr>\n",
       "    <tr>\n",
       "      <th>73</th>\n",
       "      <td>END</td>\n",
       "      <td>OF</td>\n",
       "      <td>TEST</td>\n",
       "      <td>RESULTS</td>\n",
       "      <td>,,,</td>\n",
       "    </tr>\n",
       "  </tbody>\n",
       "</table>\n",
       "<p>74 rows × 5 columns</p>\n",
       "</div>"
      ],
      "text/plain": [
       "                           0             1         2               3     4\n",
       "0                        NEW        TEST:,  sequence         number:  ,0,0\n",
       "1                   Tracking      type,0,,       NaN             NaN   NaN\n",
       "2                   Detector      type,0,,       NaN             NaN   NaN\n",
       "3                     Number            of  detected  features,150,,   NaN\n",
       "4                       Loop  closing?,0,,       NaN             NaN   NaN\n",
       "..                       ...           ...       ...             ...   ...\n",
       "69  ,30.1811,15.0993,180.029           NaN       NaN             NaN   NaN\n",
       "70                      mean          loop     time:       ,9.0185,,   NaN\n",
       "71                       max          loop     time:           ,24,,   NaN\n",
       "72                       min          loop     time:            ,6,,   NaN\n",
       "73                       END            OF      TEST         RESULTS   ,,,\n",
       "\n",
       "[74 rows x 5 columns]"
      ]
     },
     "execution_count": 3,
     "metadata": {},
     "output_type": "execute_result"
    }
   ],
   "source": [
    "data1 = pd.read_csv(\"~/dev/projects_cpp/VisualSlam/results/results_stereo_gftt_0_150_no_loop.csv\", delimiter = \" \", header=None, on_bad_lines='warn')\n",
    "data1"
   ]
  },
  {
   "cell_type": "code",
   "execution_count": 2,
   "metadata": {},
   "outputs": [
    {
     "name": "stdout",
     "output_type": "stream",
     "text": [
      "<class 'netCDF4._netCDF4.Dataset'>\n",
      "root group (NETCDF4 data model, file format HDF5):\n",
      "    dimensions(sizes): matrix_width(4), matrix_height(3), time(117)\n",
      "    variables(dimensions): float32 pose_matricies_T(time, matrix_height, matrix_width)\n",
      "    groups: \n",
      "dict_keys(['pose_matricies_T'])\n"
     ]
    }
   ],
   "source": [
    "cdf_results = netCDF4.Dataset('../visual_slam_cpp/test_no.nc')\n",
    "print(cdf_results)\n",
    "\n",
    "print(cdf_results.variables.keys())\n",
    "read_poses = cdf_results.variables['pose_matricies_T']"
   ]
  },
  {
   "cell_type": "code",
   "execution_count": 3,
   "metadata": {},
   "outputs": [
    {
     "name": "stdout",
     "output_type": "stream",
     "text": [
      "[[ 9.9948549e-01  3.1645961e-02  5.2211895e-03 -4.3595161e+00]\n",
      " [-3.1636048e-02  9.9949753e-01 -1.9702716e-03 -7.9952822e+00]\n",
      " [-5.2809170e-03  1.8040800e-03  9.9998444e-01  3.0136392e+02]]\n"
     ]
    },
    {
     "data": {
      "text/plain": [
       "[<matplotlib.lines.Line2D at 0x7384bafc4d00>]"
      ]
     },
     "execution_count": 3,
     "metadata": {},
     "output_type": "execute_result"
    },
    {
     "data": {
      "image/png": "[encoded data removed]",
      "text/plain": [
       "<Figure size 640x480 with 1 Axes>"
      ]
     },
     "metadata": {},
     "output_type": "display_data"
    }
   ],
   "source": [
    "print(read_poses[-1])\n",
    "plt.plot(read_poses[:,:,3][:,0], read_poses[:,:,3][:,2])"
   ]
  }
 ],
 "metadata": {
  "kernelspec": {
   "display_name": "Python 3",
   "language": "python",
   "name": "python3"
  },
  "language_info": {
   "codemirror_mode": {
    "name": "ipython",
    "version": 3
   },
   "file_extension": ".py",
   "mimetype": "text/x-python",
   "name": "python",
   "nbconvert_exporter": "python",
   "pygments_lexer": "ipython3",
   "version": "3.10.12"
  }
 },
 "nbformat": 4,
 "nbformat_minor": 2
}
